{
 "cells": [
  {
   "cell_type": "code",
   "execution_count": 11,
   "id": "e4f49369-1d19-4edb-9fb0-682274da1255",
   "metadata": {},
   "outputs": [
    {
     "name": "stdout",
     "output_type": "stream",
     "text": [
      "Requirement already satisfied: sqlalchemy in c:\\users\\dell\\anaconda3\\lib\\site-packages (2.0.34)\n",
      "Requirement already satisfied: typing-extensions>=4.6.0 in c:\\users\\dell\\anaconda3\\lib\\site-packages (from sqlalchemy) (4.11.0)\n",
      "Requirement already satisfied: greenlet!=0.4.17 in c:\\users\\dell\\anaconda3\\lib\\site-packages (from sqlalchemy) (3.0.1)\n",
      "Requirement already satisfied: ipython-sql in c:\\users\\dell\\anaconda3\\lib\\site-packages (0.5.0)\n",
      "Requirement already satisfied: prettytable in c:\\users\\dell\\anaconda3\\lib\\site-packages (from ipython-sql) (3.14.0)\n",
      "Requirement already satisfied: ipython in c:\\users\\dell\\anaconda3\\lib\\site-packages (from ipython-sql) (8.27.0)\n",
      "Requirement already satisfied: sqlalchemy>=2.0 in c:\\users\\dell\\anaconda3\\lib\\site-packages (from ipython-sql) (2.0.34)\n",
      "Requirement already satisfied: sqlparse in c:\\users\\dell\\anaconda3\\lib\\site-packages (from ipython-sql) (0.5.3)\n",
      "Requirement already satisfied: six in c:\\users\\dell\\anaconda3\\lib\\site-packages (from ipython-sql) (1.16.0)\n",
      "Requirement already satisfied: ipython-genutils in c:\\users\\dell\\anaconda3\\lib\\site-packages (from ipython-sql) (0.2.0)\n",
      "Requirement already satisfied: typing-extensions>=4.6.0 in c:\\users\\dell\\anaconda3\\lib\\site-packages (from sqlalchemy>=2.0->ipython-sql) (4.11.0)\n",
      "Requirement already satisfied: greenlet!=0.4.17 in c:\\users\\dell\\anaconda3\\lib\\site-packages (from sqlalchemy>=2.0->ipython-sql) (3.0.1)\n",
      "Requirement already satisfied: decorator in c:\\users\\dell\\anaconda3\\lib\\site-packages (from ipython->ipython-sql) (5.1.1)\n",
      "Requirement already satisfied: jedi>=0.16 in c:\\users\\dell\\anaconda3\\lib\\site-packages (from ipython->ipython-sql) (0.19.1)\n",
      "Requirement already satisfied: matplotlib-inline in c:\\users\\dell\\anaconda3\\lib\\site-packages (from ipython->ipython-sql) (0.1.6)\n",
      "Requirement already satisfied: prompt-toolkit<3.1.0,>=3.0.41 in c:\\users\\dell\\anaconda3\\lib\\site-packages (from ipython->ipython-sql) (3.0.43)\n",
      "Requirement already satisfied: pygments>=2.4.0 in c:\\users\\dell\\anaconda3\\lib\\site-packages (from ipython->ipython-sql) (2.15.1)\n",
      "Requirement already satisfied: stack-data in c:\\users\\dell\\anaconda3\\lib\\site-packages (from ipython->ipython-sql) (0.2.0)\n",
      "Requirement already satisfied: traitlets>=5.13.0 in c:\\users\\dell\\anaconda3\\lib\\site-packages (from ipython->ipython-sql) (5.14.3)\n",
      "Requirement already satisfied: colorama in c:\\users\\dell\\anaconda3\\lib\\site-packages (from ipython->ipython-sql) (0.4.6)\n",
      "Requirement already satisfied: wcwidth in c:\\users\\dell\\anaconda3\\lib\\site-packages (from prettytable->ipython-sql) (0.2.5)\n",
      "Requirement already satisfied: parso<0.9.0,>=0.8.3 in c:\\users\\dell\\anaconda3\\lib\\site-packages (from jedi>=0.16->ipython->ipython-sql) (0.8.3)\n",
      "Requirement already satisfied: executing in c:\\users\\dell\\anaconda3\\lib\\site-packages (from stack-data->ipython->ipython-sql) (0.8.3)\n",
      "Requirement already satisfied: asttokens in c:\\users\\dell\\anaconda3\\lib\\site-packages (from stack-data->ipython->ipython-sql) (2.0.5)\n",
      "Requirement already satisfied: pure-eval in c:\\users\\dell\\anaconda3\\lib\\site-packages (from stack-data->ipython->ipython-sql) (0.2.2)\n",
      "Requirement already satisfied: pymysql in c:\\users\\dell\\anaconda3\\lib\\site-packages (1.1.1)\n"
     ]
    }
   ],
   "source": [
    "# installing required magic packages\n",
    "!pip install sqlalchemy\n",
    "!pip install ipython-sql\n",
    "!pip install pymysql"
   ]
  },
  {
   "cell_type": "code",
   "execution_count": 13,
   "id": "6a3fa08a-48f1-4ce6-bad0-a7563620faa9",
   "metadata": {},
   "outputs": [],
   "source": [
    "import sqlite3\n",
    "from sqlalchemy import create_engine\n",
    "import pandas as pd"
   ]
  },
  {
   "cell_type": "code",
   "execution_count": null,
   "id": "e3c22919-5cb5-4234-b8f7-8f77838257d9",
   "metadata": {},
   "outputs": [
    {
     "name": "stdout",
     "output_type": "stream",
     "text": [
      "The sql extension is already loaded. To reload it, use:\n",
      "  %reload_ext sql\n"
     ]
    }
   ],
   "source": [
    "# connect to the sqlite database\n",
    "%load_ext sql\n",
    "\n",
    "engine = create_engine(\"sqlite:///bonga_ecommerce.db\")\n",
    "%config SQL.conn_name = 'engine'\n",
    "\n",
    "conn = sqlite3.connect(\"bonga_ecommerce.db\")\n",
    "cursor = conn.cursor()\n",
    "\n",
    "%sql sqlite:///bonga_ecommerce.db"
   ]
  },
  {
   "cell_type": "markdown",
   "id": "849343f1-e3e1-4064-a141-03793e789d9d",
   "metadata": {},
   "source": [
    "Create Tables"
   ]
  },
  {
   "cell_type": "code",
   "execution_count": 15,
   "id": "098743f8-5292-492a-8085-0c1a6abcc3dd",
   "metadata": {},
   "outputs": [
    {
     "data": {
      "text/plain": [
       "<sqlite3.Cursor at 0x2c320b8f1c0>"
      ]
     },
     "execution_count": 15,
     "metadata": {},
     "output_type": "execute_result"
    }
   ],
   "source": [
    "# DATA DEFINITION LANGUAGE (DDL)\n",
    "cursor.execute('''\n",
    "CREATE TABLE IF NOT EXISTS products (\n",
    "    product_id integer primary key,\n",
    "    name text not null,\n",
    "    price decimal not null,\n",
    "    category text not null\n",
    ")\n",
    "''')\n",
    "\n",
    "cursor.execute('''\n",
    "CREATE TABLE IF NOT EXISTS customers (\n",
    "    customer_id integer primary key,\n",
    "    name text not null,\n",
    "    email uuid not null\n",
    ")\n",
    "''')\n",
    "\n",
    "cursor.execute('''\n",
    "CREATE TABLE IF NOT EXISTS orders (\n",
    "    order_id integer primary key,\n",
    "    customer_id integer not null,\n",
    "    order_date date not null,\n",
    "    foreign key (customer_id) references customers(customer_id)\n",
    ")\n",
    "''')\n",
    "\n",
    "cursor.execute('''\n",
    "CREATE TABLE IF NOT EXISTS order_items (\n",
    "    order_item_id integer primary key,\n",
    "    order_id integer not null,\n",
    "    product_id integer not null,\n",
    "    quantity integer not null,\n",
    "    foreign key (order_id) references orders(order_id),\n",
    "    foreign key (product_id) references product(product_id)\n",
    ")\n",
    "''')\n"
   ]
  },
  {
   "cell_type": "markdown",
   "id": "4f850ef2",
   "metadata": {},
   "source": [
    "Converting the python cell to sql"
   ]
  },
  {
   "cell_type": "code",
   "execution_count": null,
   "id": "7cf0c1ea-d8cb-4774-aeaf-4f723be38bd0",
   "metadata": {},
   "outputs": [
    {
     "name": "stdout",
     "output_type": "stream",
     "text": [
      "Requirement already satisfied: prettytable in c:\\users\\dell\\anaconda3\\lib\\site-packages (3.14.0)\n",
      "Requirement already satisfied: wcwidth in c:\\users\\dell\\anaconda3\\lib\\site-packages (from prettytable) (0.2.5)\n"
     ]
    }
   ],
   "source": [
    "!pip install --upgrade prettytable\n",
    "\n",
    "from prettytable import DEFAULT\n",
    "%config SqlMagic.style = '_DEPRECATED_DEFAULT'"
   ]
  },
  {
   "cell_type": "code",
   "execution_count": null,
   "id": "db51998b-318a-4fb4-9464-183027923637",
   "metadata": {},
   "outputs": [
    {
     "name": "stdout",
     "output_type": "stream",
     "text": [
      " * sqlite:///bonga_ecommerce.db\n",
      "Done.\n"
     ]
    },
    {
     "data": {
      "text/html": [
       "<table>\n",
       "    <thead>\n",
       "        <tr>\n",
       "            <th>name</th>\n",
       "        </tr>\n",
       "    </thead>\n",
       "    <tbody>\n",
       "        <tr>\n",
       "            <td>customers</td>\n",
       "        </tr>\n",
       "        <tr>\n",
       "            <td>order_items</td>\n",
       "        </tr>\n",
       "        <tr>\n",
       "            <td>order_itemss</td>\n",
       "        </tr>\n",
       "        <tr>\n",
       "            <td>orders</td>\n",
       "        </tr>\n",
       "        <tr>\n",
       "            <td>products</td>\n",
       "        </tr>\n",
       "    </tbody>\n",
       "</table>"
      ],
      "text/plain": [
       "[('customers',),\n",
       " ('order_items',),\n",
       " ('order_itemss',),\n",
       " ('orders',),\n",
       " ('products',)]"
      ]
     },
     "execution_count": 17,
     "metadata": {},
     "output_type": "execute_result"
    }
   ],
   "source": [
    "%%sql \n",
    "SELECT name FROM sqlite_master WHERE type in ('table', 'view') AND name NOT LIKE 'sqlite_%' ORDER BY 1"
   ]
  },
  {
   "cell_type": "markdown",
   "id": "33422888-1b57-4885-9c14-94ca932fbbd7",
   "metadata": {},
   "source": [
    "Loading data into Database tables"
   ]
  },
  {
   "cell_type": "code",
   "execution_count": 18,
   "id": "d7f4ca67-adeb-4c11-ac96-74c9b8f4f148",
   "metadata": {},
   "outputs": [],
   "source": [
    "# Function to load data into the database tables\n",
    "def load_data_to_table(csv_path, table_name):\n",
    "    df = pd.read_csv(csv_path)\n",
    "    df.to_sql(table_name, conn, if_exists = 'append', index=False)"
   ]
  },
  {
   "cell_type": "code",
   "execution_count": null,
   "id": "b85a5201",
   "metadata": {},
   "outputs": [],
   "source": [
    "load_data_to_table('products.csv', 'products')\n",
    "load_data_to_table('customers.csv', 'customers')\n",
    "load_data_to_table('orders.csv', 'orders')\n",
    "load_data_to_table('order_items.csv', 'order_items')"
   ]
  },
  {
   "cell_type": "code",
   "execution_count": null,
   "id": "bb4ba1ec-8b9e-40b0-83fa-ea1686b7aa21",
   "metadata": {},
   "outputs": [
    {
     "name": "stdout",
     "output_type": "stream",
     "text": [
      " * sqlite:///bonga_ecommerce.db\n",
      "1 rows affected.\n"
     ]
    },
    {
     "data": {
      "text/plain": [
       "[]"
      ]
     },
     "execution_count": 19,
     "metadata": {},
     "output_type": "execute_result"
    }
   ],
   "source": [
    "# A NEW PRODUCT ADDED\n",
    "%sql INSERT INTO products (name, price, category) VALUES ('Golden book', 345.88, 'Books')"
   ]
  },
  {
   "cell_type": "code",
   "execution_count": 20,
   "id": "b3b84fe7-c0d4-4f51-bb68-b12f09f48305",
   "metadata": {
    "scrolled": true
   },
   "outputs": [
    {
     "name": "stdout",
     "output_type": "stream",
     "text": [
      " * sqlite:///bonga_ecommerce.db\n",
      "Done.\n"
     ]
    },
    {
     "data": {
      "text/html": [
       "<table>\n",
       "    <thead>\n",
       "        <tr>\n",
       "            <th>product_id</th>\n",
       "            <th>name</th>\n",
       "            <th>price</th>\n",
       "            <th>category</th>\n",
       "        </tr>\n",
       "    </thead>\n",
       "    <tbody>\n",
       "        <tr>\n",
       "            <td>1</td>\n",
       "            <td>Golden book</td>\n",
       "            <td>345.88</td>\n",
       "            <td>Books</td>\n",
       "        </tr>\n",
       "        <tr>\n",
       "            <td>2</td>\n",
       "            <td>Golden book</td>\n",
       "            <td>345.88</td>\n",
       "            <td>Books</td>\n",
       "        </tr>\n",
       "    </tbody>\n",
       "</table>"
      ],
      "text/plain": [
       "[(1, 'Golden book', 345.88, 'Books'), (2, 'Golden book', 345.88, 'Books')]"
      ]
     },
     "execution_count": 20,
     "metadata": {},
     "output_type": "execute_result"
    }
   ],
   "source": [
    "%sql select * from products LIMIT(5)"
   ]
  },
  {
   "cell_type": "code",
   "execution_count": null,
   "id": "c80c06ce-15c2-4754-8cde-84251b997faa",
   "metadata": {
    "scrolled": true
   },
   "outputs": [
    {
     "name": "stdout",
     "output_type": "stream",
     "text": [
      " * sqlite:///bonga_ecommerce.db\n",
      "Done.\n"
     ]
    },
    {
     "data": {
      "text/html": [
       "<table>\n",
       "    <thead>\n",
       "        <tr>\n",
       "            <th>product_id</th>\n",
       "            <th>name</th>\n",
       "            <th>price</th>\n",
       "            <th>category</th>\n",
       "        </tr>\n",
       "    </thead>\n",
       "    <tbody>\n",
       "        <tr>\n",
       "            <td>1</td>\n",
       "            <td>Golden book</td>\n",
       "            <td>345.88</td>\n",
       "            <td>Books</td>\n",
       "        </tr>\n",
       "        <tr>\n",
       "            <td>2</td>\n",
       "            <td>Golden book</td>\n",
       "            <td>345.88</td>\n",
       "            <td>Books</td>\n",
       "        </tr>\n",
       "        <tr>\n",
       "            <td>3</td>\n",
       "            <td>laptop</td>\n",
       "            <td>345.18</td>\n",
       "            <td>Electronics</td>\n",
       "        </tr>\n",
       "    </tbody>\n",
       "</table>"
      ],
      "text/plain": [
       "[(1, 'Golden book', 345.88, 'Books'),\n",
       " (2, 'Golden book', 345.88, 'Books'),\n",
       " (3, 'laptop', 345.18, 'Electronics')]"
      ]
     },
     "execution_count": 34,
     "metadata": {},
     "output_type": "execute_result"
    }
   ],
   "source": [
    "# ALSO\n",
    "# cursor.execute(\"INSERT INTO products (name, price, category) VALUES (?,?,?)\", ('lappy', 895.88, 'Electronics'))\n",
    "cursor.execute(\"INSERT INTO products (name, price, category) VALUES (?,?,?)\", ('laptop', 345.18, 'Electronics'))\n",
    "conn.commit()"
   ]
  },
  {
   "cell_type": "code",
   "execution_count": 23,
   "id": "026180a0-0519-4b42-8ef8-27c8a7e24ba5",
   "metadata": {},
   "outputs": [
    {
     "name": "stdout",
     "output_type": "stream",
     "text": [
      " * sqlite:///bonga_ecommerce.db\n",
      "1 rows affected.\n"
     ]
    },
    {
     "data": {
      "text/plain": [
       "[]"
      ]
     },
     "execution_count": 23,
     "metadata": {},
     "output_type": "execute_result"
    }
   ],
   "source": [
    "# UPDATE\n",
    "%sql UPDATE customers SET email = 'herday@gmail.com' WHERE name = 'Customer1'"
   ]
  },
  {
   "cell_type": "markdown",
   "id": "3d156d7e-52fa-4ec5-923a-05fb1c8f51a0",
   "metadata": {},
   "source": [
    "### Tasks"
   ]
  },
  {
   "cell_type": "code",
   "execution_count": 33,
   "id": "c7d11fe2-5e70-4143-9406-16c6c7caec34",
   "metadata": {},
   "outputs": [
    {
     "name": "stdout",
     "output_type": "stream",
     "text": [
      " * sqlite:///bonga_ecommerce.db\n",
      "Done.\n"
     ]
    },
    {
     "data": {
      "text/html": [
       "<table>\n",
       "    <thead>\n",
       "        <tr>\n",
       "            <th>category</th>\n",
       "            <th>total_sales</th>\n",
       "        </tr>\n",
       "    </thead>\n",
       "    <tbody>\n",
       "    </tbody>\n",
       "</table>"
      ],
      "text/plain": [
       "[]"
      ]
     },
     "execution_count": 33,
     "metadata": {},
     "output_type": "execute_result"
    }
   ],
   "source": [
    "%%sql\n",
    "SELECT category, \n",
    "       SUM(price * quantity) AS total_sales\n",
    "FROM order_items AS op, \n",
    "     products AS p\n",
    "WHERE op.product_id = p.product_id\n",
    "GROUP BY category;"
   ]
  },
  {
   "cell_type": "markdown",
   "id": "7dafd918",
   "metadata": {},
   "source": [
    "Total Sales of Product Per Category"
   ]
  },
  {
   "cell_type": "code",
   "execution_count": null,
   "id": "284660c0",
   "metadata": {},
   "outputs": [
    {
     "name": "stdout",
     "output_type": "stream",
     "text": [
      " * sqlite:///bonga_ecommerce.db\n",
      "Done.\n"
     ]
    },
    {
     "data": {
      "text/html": [
       "<table>\n",
       "    <thead>\n",
       "        <tr>\n",
       "            <th>category</th>\n",
       "            <th>total_price</th>\n",
       "        </tr>\n",
       "    </thead>\n",
       "    <tbody>\n",
       "        <tr>\n",
       "            <td>Books</td>\n",
       "            <td>3272</td>\n",
       "        </tr>\n",
       "        <tr>\n",
       "            <td>Electronics</td>\n",
       "            <td>3025</td>\n",
       "        </tr>\n",
       "        <tr>\n",
       "            <td>Fashion</td>\n",
       "            <td>3057</td>\n",
       "        </tr>\n",
       "        <tr>\n",
       "            <td>Home &amp; Kitchen</td>\n",
       "            <td>2558</td>\n",
       "        </tr>\n",
       "        <tr>\n",
       "            <td>Toys</td>\n",
       "            <td>3065</td>\n",
       "        </tr>\n",
       "    </tbody>\n",
       "</table>"
      ],
      "text/plain": [
       "[('Books', 3272),\n",
       " ('Electronics', 3025),\n",
       " ('Fashion', 3057),\n",
       " ('Home & Kitchen', 2558),\n",
       " ('Toys', 3065)]"
      ]
     },
     "execution_count": 29,
     "metadata": {},
     "output_type": "execute_result"
    }
   ],
   "source": [
    "%%sql\n",
    "SELECT products.category, SUM( order_items.quantity) AS total_price FROM order_items JOIN products ON order_items.product_id = products.product_id GROUP BY products.category\n"
   ]
  },
  {
   "cell_type": "markdown",
   "id": "35a0d21f-b65c-4ea6-a462-906a5c4d8c52",
   "metadata": {},
   "source": [
    "Highest selling price"
   ]
  },
  {
   "cell_type": "code",
   "execution_count": null,
   "id": "4e316659-803c-41bc-a93e-b946cc12443c",
   "metadata": {},
   "outputs": [
    {
     "name": "stdout",
     "output_type": "stream",
     "text": [
      " * sqlite:///bonga_ecommerce.db\n",
      "Done.\n"
     ]
    },
    {
     "data": {
      "text/html": [
       "<table>\n",
       "    <thead>\n",
       "        <tr>\n",
       "            <th>product_id</th>\n",
       "            <th>Total_quantity</th>\n",
       "        </tr>\n",
       "    </thead>\n",
       "    <tbody>\n",
       "        <tr>\n",
       "            <td>79</td>\n",
       "            <td>41</td>\n",
       "        </tr>\n",
       "        <tr>\n",
       "            <td>439</td>\n",
       "            <td>40</td>\n",
       "        </tr>\n",
       "        <tr>\n",
       "            <td>130</td>\n",
       "            <td>38</td>\n",
       "        </tr>\n",
       "        <tr>\n",
       "            <td>921</td>\n",
       "            <td>33</td>\n",
       "        </tr>\n",
       "        <tr>\n",
       "            <td>128</td>\n",
       "            <td>33</td>\n",
       "        </tr>\n",
       "        <tr>\n",
       "            <td>106</td>\n",
       "            <td>33</td>\n",
       "        </tr>\n",
       "        <tr>\n",
       "            <td>939</td>\n",
       "            <td>32</td>\n",
       "        </tr>\n",
       "        <tr>\n",
       "            <td>919</td>\n",
       "            <td>32</td>\n",
       "        </tr>\n",
       "        <tr>\n",
       "            <td>798</td>\n",
       "            <td>31</td>\n",
       "        </tr>\n",
       "        <tr>\n",
       "            <td>551</td>\n",
       "            <td>31</td>\n",
       "        </tr>\n",
       "    </tbody>\n",
       "</table>"
      ],
      "text/plain": [
       "[(79, 41),\n",
       " (439, 40),\n",
       " (130, 38),\n",
       " (921, 33),\n",
       " (128, 33),\n",
       " (106, 33),\n",
       " (939, 32),\n",
       " (919, 32),\n",
       " (798, 31),\n",
       " (551, 31)]"
      ]
     },
     "execution_count": 197,
     "metadata": {},
     "output_type": "execute_result"
    }
   ],
   "source": [
    "%%sql\n",
    "SELECT product_id, \n",
    "sum(quantity) as 'Total_quantity'\n",
    "from order_items\n",
    "group by product_id\n",
    "order by Total_quantity DESC\n",
    "limit(10)"
   ]
  },
  {
   "cell_type": "markdown",
   "id": "6b71daa1",
   "metadata": {},
   "source": [
    "Highest selling product"
   ]
  },
  {
   "cell_type": "code",
   "execution_count": null,
   "id": "f83082f9",
   "metadata": {},
   "outputs": [
    {
     "name": "stdout",
     "output_type": "stream",
     "text": [
      " * sqlite:///bonga_ecommerce.db\n",
      "Done.\n"
     ]
    },
    {
     "data": {
      "text/html": [
       "<table>\n",
       "    <thead>\n",
       "        <tr>\n",
       "            <th>product_id</th>\n",
       "            <th>total_quantity</th>\n",
       "        </tr>\n",
       "    </thead>\n",
       "    <tbody>\n",
       "        <tr>\n",
       "            <td>79</td>\n",
       "            <td>41</td>\n",
       "        </tr>\n",
       "    </tbody>\n",
       "</table>"
      ],
      "text/plain": [
       "[(79, 41)]"
      ]
     },
     "execution_count": 28,
     "metadata": {},
     "output_type": "execute_result"
    }
   ],
   "source": [
    "%%sql\n",
    "select product_id, sum (quantity) as total_quantity\n",
    "from order_items\n",
    "group by product_id\n",
    "order by total_quantity desc\n",
    "limit 1;"
   ]
  },
  {
   "cell_type": "markdown",
   "id": "a4a2bf5c-cad7-42bd-a8c7-b0feece24f3f",
   "metadata": {},
   "source": [
    "Total number of Products that are Electronics"
   ]
  },
  {
   "cell_type": "code",
   "execution_count": null,
   "id": "c905cf24-ac88-455b-8d46-ac1f6865ed70",
   "metadata": {},
   "outputs": [
    {
     "name": "stdout",
     "output_type": "stream",
     "text": [
      " * sqlite:///bonga_ecommerce.db\n",
      "Done.\n"
     ]
    },
    {
     "data": {
      "text/html": [
       "<table>\n",
       "    <thead>\n",
       "        <tr>\n",
       "            <th>Number of Electronics Product</th>\n",
       "        </tr>\n",
       "    </thead>\n",
       "    <tbody>\n",
       "        <tr>\n",
       "            <td>193</td>\n",
       "        </tr>\n",
       "    </tbody>\n",
       "</table>"
      ],
      "text/plain": [
       "[(193,)]"
      ]
     },
     "execution_count": 27,
     "metadata": {},
     "output_type": "execute_result"
    }
   ],
   "source": [
    "%%sql\n",
    "select count(*) as 'Number of Electronics Product'\n",
    "from products\n",
    "where category is 'Electronics'"
   ]
  },
  {
   "cell_type": "markdown",
   "id": "9db2c8d1-5ba5-4855-a097-b0c0e597f119",
   "metadata": {},
   "source": [
    "\n",
    "Categories with more than 10 sales"
   ]
  },
  {
   "cell_type": "code",
   "execution_count": null,
   "id": "eb0a9268-979a-433d-b4ea-221399b8ceb4",
   "metadata": {},
   "outputs": [
    {
     "name": "stdout",
     "output_type": "stream",
     "text": [
      " * sqlite:///bonga_ecommerce.db\n",
      "Done.\n"
     ]
    },
    {
     "data": {
      "text/html": [
       "<table>\n",
       "    <thead>\n",
       "        <tr>\n",
       "            <th>category</th>\n",
       "            <th>orders_count</th>\n",
       "        </tr>\n",
       "    </thead>\n",
       "    <tbody>\n",
       "        <tr>\n",
       "            <td>Books</td>\n",
       "            <td>1302</td>\n",
       "        </tr>\n",
       "        <tr>\n",
       "            <td>Electronics</td>\n",
       "            <td>1181</td>\n",
       "        </tr>\n",
       "        <tr>\n",
       "            <td>Fashion</td>\n",
       "            <td>1247</td>\n",
       "        </tr>\n",
       "        <tr>\n",
       "            <td>Home &amp; Kitchen</td>\n",
       "            <td>1019</td>\n",
       "        </tr>\n",
       "        <tr>\n",
       "            <td>Toys</td>\n",
       "            <td>1251</td>\n",
       "        </tr>\n",
       "    </tbody>\n",
       "</table>"
      ],
      "text/plain": [
       "[('Books', 1302),\n",
       " ('Electronics', 1181),\n",
       " ('Fashion', 1247),\n",
       " ('Home & Kitchen', 1019),\n",
       " ('Toys', 1251)]"
      ]
     },
     "execution_count": 229,
     "metadata": {},
     "output_type": "execute_result"
    }
   ],
   "source": [
    "%%sql\n",
    "\n",
    "SELECT category, count(od.order_id) as 'orders_count'\n",
    "FROM orders as od, products as p, order_items as op\n",
    "WHERE od.order_id = op.order_id and \n",
    "    op.product_id = p.product_id\n",
    "GROUP BY category \n",
    "HAVING orders_count > 10 ;"
   ]
  },
  {
   "cell_type": "markdown",
   "id": "843607bc-3b4d-49e2-a5c4-364b19274263",
   "metadata": {},
   "source": [
    "Average product price per categories ordered by price"
   ]
  },
  {
   "cell_type": "code",
   "execution_count": null,
   "id": "1f9d612d-209e-4bf0-9cf8-2fcd2fe64c6b",
   "metadata": {},
   "outputs": [
    {
     "name": "stdout",
     "output_type": "stream",
     "text": [
      " * sqlite:///bonga_ecommerce.db\n",
      "Done.\n"
     ]
    },
    {
     "data": {
      "text/html": [
       "<table>\n",
       "    <thead>\n",
       "        <tr>\n",
       "            <th>category</th>\n",
       "            <th>Average_Price</th>\n",
       "        </tr>\n",
       "    </thead>\n",
       "    <tbody>\n",
       "        <tr>\n",
       "            <td>Fashion</td>\n",
       "            <td>261.46653846153845</td>\n",
       "        </tr>\n",
       "        <tr>\n",
       "            <td>Electronics</td>\n",
       "            <td>257.07169230769233</td>\n",
       "        </tr>\n",
       "        <tr>\n",
       "            <td>Home &amp; Kitchen</td>\n",
       "            <td>253.98537572254335</td>\n",
       "        </tr>\n",
       "        <tr>\n",
       "            <td>Books</td>\n",
       "            <td>246.61542056074765</td>\n",
       "        </tr>\n",
       "        <tr>\n",
       "            <td>Toys</td>\n",
       "            <td>235.41691588785048</td>\n",
       "        </tr>\n",
       "    </tbody>\n",
       "</table>"
      ],
      "text/plain": [
       "[('Fashion', 261.46653846153845),\n",
       " ('Electronics', 257.07169230769233),\n",
       " ('Home & Kitchen', 253.98537572254335),\n",
       " ('Books', 246.61542056074765),\n",
       " ('Toys', 235.41691588785048)]"
      ]
     },
     "execution_count": 246,
     "metadata": {},
     "output_type": "execute_result"
    }
   ],
   "source": [
    "%%sql\n",
    "SELECT category, Avg(price) as 'Average_Price'\n",
    "FROM products\n",
    "GROUP BY category\n",
    "ORDER BY Average_Price DESC"
   ]
  },
  {
   "cell_type": "markdown",
   "id": "91933018-8498-448b-be5d-d5de8938e0c5",
   "metadata": {},
   "source": [
    "Product name and Order_date"
   ]
  },
  {
   "cell_type": "code",
   "execution_count": null,
   "id": "d11783c0-e518-4c83-ba93-76d1e6b77446",
   "metadata": {},
   "outputs": [
    {
     "name": "stdout",
     "output_type": "stream",
     "text": [
      " * sqlite:///bonga_ecommerce.db\n",
      "Done.\n"
     ]
    },
    {
     "data": {
      "text/html": [
       "<table>\n",
       "    <thead>\n",
       "        <tr>\n",
       "            <th>name</th>\n",
       "            <th>order_date</th>\n",
       "        </tr>\n",
       "    </thead>\n",
       "    <tbody>\n",
       "        <tr>\n",
       "            <td>Product 34</td>\n",
       "            <td>2014-09-04 17:49:21</td>\n",
       "        </tr>\n",
       "        <tr>\n",
       "            <td>Product 653</td>\n",
       "            <td>2014-09-04 17:49:21</td>\n",
       "        </tr>\n",
       "        <tr>\n",
       "            <td>Product 427</td>\n",
       "            <td>2014-09-04 17:49:21</td>\n",
       "        </tr>\n",
       "        <tr>\n",
       "            <td>Product 830</td>\n",
       "            <td>2011-07-19 03:46:15</td>\n",
       "        </tr>\n",
       "        <tr>\n",
       "            <td>Product 886</td>\n",
       "            <td>2011-07-19 03:46:15</td>\n",
       "        </tr>\n",
       "    </tbody>\n",
       "</table>"
      ],
      "text/plain": [
       "[('Product 34', '2014-09-04 17:49:21'),\n",
       " ('Product 653', '2014-09-04 17:49:21'),\n",
       " ('Product 427', '2014-09-04 17:49:21'),\n",
       " ('Product 830', '2011-07-19 03:46:15'),\n",
       " ('Product 886', '2011-07-19 03:46:15')]"
      ]
     },
     "execution_count": 253,
     "metadata": {},
     "output_type": "execute_result"
    }
   ],
   "source": [
    "%%sql\n",
    "\n",
    "SELECT p.name, od.order_date\n",
    "FROM products as p\n",
    "INNER JOIN order_items as oi ON p.product_id = oi.product_id\n",
    "INNER JOIN orders as od ON oi.order_id = od.order_id\n",
    "limit(5)"
   ]
  }
 ],
 "metadata": {
  "kernelspec": {
   "display_name": "base",
   "language": "python",
   "name": "python3"
  },
  "language_info": {
   "codemirror_mode": {
    "name": "ipython",
    "version": 3
   },
   "file_extension": ".py",
   "mimetype": "text/x-python",
   "name": "python",
   "nbconvert_exporter": "python",
   "pygments_lexer": "ipython3",
   "version": "3.12.7"
  }
 },
 "nbformat": 4,
 "nbformat_minor": 5
}
